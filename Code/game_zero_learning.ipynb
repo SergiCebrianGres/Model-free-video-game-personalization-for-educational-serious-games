{
 "cells": [
  {
   "cell_type": "code",
   "execution_count": 1,
   "metadata": {
    "collapsed": true
   },
   "outputs": [],
   "source": [
    "from game import Game\n",
    "from entity import Entity, PlayerEntity, AIGuide, AILearningGuide\n",
    "import numpy as np\n",
    "import ipywidgets as widgets\n",
    "from IPython.display import clear_output\n",
    "from math import ceil\n",
    "import time"
   ]
  },
  {
   "cell_type": "code",
   "execution_count": 2,
   "metadata": {
    "collapsed": true
   },
   "outputs": [],
   "source": [
    "import warnings\n",
    "warnings.filterwarnings('ignore')"
   ]
  },
  {
   "cell_type": "code",
   "execution_count": 3,
   "metadata": {
    "collapsed": true
   },
   "outputs": [],
   "source": [
    "sizes = {'SMALL':(9,9,4), 'MEDIUM':(20,25,10), 'BIG':(40,60,25)}\n",
    "gameEntities = []\n",
    "playerEntities = []\n",
    "route = [1e6,[]]\n",
    "\n",
    "def createLevelLayout(i):\n",
    "    global playerEntities\n",
    "    global gameEntities\n",
    "    global h\n",
    "    global w\n",
    "    positions = []\n",
    "    gameEntities = []\n",
    "    playerEntities = []\n",
    "    h,w,num = sizes[i]\n",
    "    distances = {}\n",
    "    for _ in range(num+1):\n",
    "        newPos = (np.random.randint(0, h),np.random.randint(0, w))\n",
    "        while newPos in positions:\n",
    "            newPos = (np.random.randint(0, h),np.random.randint(0, w))\n",
    "        '''\n",
    "        distances[newPos] = {}    \n",
    "        for pos in positions:\n",
    "            dist = DistInObjects(pos,newPos)\n",
    "            distances[pos][newPos] = dist\n",
    "            distances[newPos][pos] = dist\n",
    "        '''\n",
    "        positions.append(newPos)\n",
    "    for pos in positions[:-1]:\n",
    "        gameEntities.append({'type': 'GOAL', 'row': pos[0], 'col': pos[1], 'size': 1, 'id': 1, 'rot': 0})\n",
    "    pos = positions[-1]\n",
    "    playerEntities.append({'type': 'Blau', 'row': pos[0], 'col': pos[1], 'size': 1, 'id': 1, 'rot': 4, 'vision':3})\n",
    "    \n",
    "    \n",
    "    \n",
    "    '''\n",
    "    global route\n",
    "    route = [1e10,[]]\n",
    "    find_paths(pos,distances,[],0)\n",
    "    '''\n",
    "    return playerEntities, gameEntities\n",
    "\n",
    "def loadLevel(level):\n",
    "    global playerEntities\n",
    "    global gameEntities\n",
    "    global h\n",
    "    global w\n",
    "    playerEntities = level[0]\n",
    "    gameEntities = level[1]\n",
    "    if len(gameEntities) == 4:\n",
    "        h = 9\n",
    "        w = 9\n",
    "    elif len(gameEntities) == 10:\n",
    "        h = 20\n",
    "        w = 25\n",
    "    else:\n",
    "        h = 40\n",
    "        w = 60"
   ]
  },
  {
   "cell_type": "code",
   "execution_count": 4,
   "metadata": {
    "collapsed": true
   },
   "outputs": [],
   "source": [
    "ticks = []\n",
    "\n",
    "class LearnManager():\n",
    "    def __init__(self, Q0 = {}, iterations = 1000, eps = True, sleepTime = 0.005, disp = False, idle = (10,0)):\n",
    "        self.showDisp = disp\n",
    "        self.sleepTime = sleepTime\n",
    "        self.startIterations = iterations\n",
    "        self.iterations = iterations\n",
    "        self.Q = Q0\n",
    "        self.eps = eps\n",
    "        \n",
    "        \n",
    "        if self.showDisp:\n",
    "            if self.eps == 0:\n",
    "                e = 0\n",
    "            elif self.eps < 0 or self.eps > 1:\n",
    "                e = 1./(self.startIterations+2-self.iterations)\n",
    "            else:\n",
    "                e = self.eps\n",
    "            self.sGame = SimGame(entities=gameEntities, updateTime = self.sleepTime, pEntities=playerEntities,aiguide=True,\n",
    "                             decisionLog = False, guideSleepTime = 13, Q0 = self.Q, eps = e, lm = self, disp = self.showDisp, idle = idle)\n",
    "        else:  \n",
    "            while self.iterations > 0:\n",
    "                if self.eps == 0:\n",
    "                    e = 0\n",
    "                elif self.eps < 0 or self.eps > 1:\n",
    "                    e = 1./(self.startIterations+2-self.iterations)\n",
    "                else:\n",
    "                    e = self.eps\n",
    "                #clear_output()\n",
    "                self.sGame = SimGame(entities=gameEntities, updateTime = self.sleepTime, pEntities=playerEntities,aiguide=True,\n",
    "                                 decisionLog = False, guideSleepTime = 13, Q0 = self.Q, eps = e, lm = self, disp = self.showDisp, idle = idle)\n",
    "                self.Q = self.sGame.guide.Q\n",
    "                self.iterations -= 1\n",
    "                #print(\"Iterations remaining: \", self.iterations, \"with epsilon =\", e)\n",
    "                ticks.append(self.sGame.state['score'])\n",
    "                del self.sGame\n",
    "            #print(\"Completed!\")"
   ]
  },
  {
   "cell_type": "code",
   "execution_count": 5,
   "metadata": {
    "collapsed": true
   },
   "outputs": [],
   "source": [
    "CELL_SIZE = 24\n",
    "rots = [(0,1),(1,1),(1,0),(1,-1),(0,-1),(-1,-1),(-1,0),(-1,1)]\n",
    "\n",
    "class SimGame(Game):\n",
    "    def __init__(self, updateTime = 0.1, entities=None, pEntities=None,\n",
    "                 aiguide = True, decisionLog = False, guideSleepTime = 10, \n",
    "                 Q0 = {}, eps = 0.01, lm = None, disp = True, idle = (10,0)):\n",
    "        self.hasGuide = False\n",
    "        if aiguide:\n",
    "            self.hasGuide = aiguide\n",
    "            self.guide = AILearningGuide(eps = eps, gamma = .5, lr = .15, sleepTime = guideSleepTime, Qtable = Q0)\n",
    "            self.guideActionReport = [['SLEEP',[5]],'PROGRESS']\n",
    "            self.goals = []\n",
    "            self.oldState = 'start'\n",
    "            self.reward = 0\n",
    "            self.lastAction = (0,0)\n",
    "            self.lm = lm\n",
    "        self.log = decisionLog\n",
    "        self.board = None\n",
    "        self.gameEntities = []\n",
    "        self.playerEntities = []\n",
    "        self.playerActionReports = []\n",
    "    \n",
    "        self.boardHeight = h\n",
    "        self.boardWidth = w\n",
    "        self.boardVisits = np.zeros((self.boardHeight,self.boardWidth))\n",
    "        self.state = {'ticks': 0, 'score': 0}\n",
    "        \n",
    "        if entities != None:\n",
    "            for e in entities:\n",
    "                self.gameEntities.append(Entity(e))\n",
    "            if aiguide:\n",
    "                for e in self.gameEntities:\n",
    "                    if e.entityType == 'GOAL':\n",
    "                        self.goals.append(e)\n",
    "                \n",
    "        if pEntities != None:        \n",
    "            for p in pEntities:\n",
    "                self.playerEntities.append(PlayerEntity(p, idleChoices = [(['LOOK_AROUND', [1]],idle[0]),(['WALK_FORWARD', [1]],idle[1])]))\n",
    "                self.boardVisits[p['row'],p['col']] += 1\n",
    "                self.playerActionReports.append([['IDLE',[]],'OK'])\n",
    "        \n",
    "        Game.__init__(self, showDisplay=disp, updateTime = updateTime)\n",
    "\n",
    "    def entitiesInCell(self,row,col):\n",
    "        entities = []\n",
    "        for e in self.gameEntities:\n",
    "            if e.position[0]==row and e.position[1]==col:\n",
    "                entities.append(e)\n",
    "            elif e.position[0]<=row and e.position[0]+e.size>row and e.position[1]<=col and e.position[1]+e.size>col:\n",
    "                entities.append(e)\n",
    "        for p in self.playerEntities:\n",
    "            if p.position[0]==row and p.position[1]==col:\n",
    "                entities.append(p)\n",
    "            elif p.position[0]<=row and p.position[0]+p.size>row and p.position[1]<=col and p.position[1]+p.size>col:\n",
    "                entities.append(p)\n",
    "        return entities\n",
    "    \n",
    "    def cellsSeenByPlayer(self, player):\n",
    "        cells = [(player.position[0],player.position[1])]\n",
    "        if player.rotation % 2 != 0:\n",
    "            for i in range(1,player.vision+1):\n",
    "                cells.append((player.position[0] + i * rots[player.rotation][0],\n",
    "                              player.position[1] + i * rots[player.rotation][1]))\n",
    "                for j in range(1,i):\n",
    "                    cells.append((player.position[0] + i * rots[player.rotation][0],\n",
    "                                  player.position[1] + j * rots[player.rotation][1]))\n",
    "                    cells.append((player.position[0] + j * rots[player.rotation][0],\n",
    "                                  player.position[1] + i * rots[player.rotation][1]))\n",
    "        else:\n",
    "            auxRot = (player.rotation + 2) % 8\n",
    "            for i in range(0,player.vision):\n",
    "                for j in range(-i,i+1):\n",
    "                    cells.append((player.position[0] + (i+1) * rots[player.rotation][0] + j * rots[auxRot][0],\n",
    "                                  player.position[1] + (i+1) * rots[player.rotation][1] + j * rots[auxRot][1]))\n",
    "        return cells\n",
    "    \n",
    "    def entitiesSeenByPlayer(self, player):\n",
    "        cellsSeen = self.cellsSeenByPlayer(player)\n",
    "        entitiesSeen = []\n",
    "        for c in cellsSeen:\n",
    "            entities = self.entitiesInCell(c[0],c[1])\n",
    "            for e in entities:\n",
    "                entitiesSeen.append(e)\n",
    "        return entitiesSeen\n",
    "\n",
    "    def getCell(self,row,col):\n",
    "        cellsSeen = []\n",
    "        for p in self.playerEntities:\n",
    "            cellsSeen += self.cellsSeenByPlayer(p)\n",
    "            \n",
    "        entities = self.entitiesInCell(row,col)\n",
    "        if len(entities) > 0:\n",
    "            entity = entities[0]\n",
    "            if entity!=None:\n",
    "                if entity.entityType == 'PICKABLE_OBJECT':\n",
    "                    cellBackground = '#ff0000'\n",
    "                elif entity.entityType == 'GOAL':\n",
    "                    cellBackground = '#ff69b4'\n",
    "                else: cellBackground = '#ff9900'\n",
    "        elif (row,col) in cellsSeen:\n",
    "            cellBackground = '#00ff00'\n",
    "        else:\n",
    "            g = hex(int(255*(1-1/(1+(1+self.boardVisits[row,col])*0.33))))\n",
    "            color = \"#33\" + str(g)[2:4] + \"33\"\n",
    "            cellBackground = color\n",
    "        return '<td id=\"%04d\" style=\"width:%dpx;height:%dpx;background:%s;\"> </td>' % (row*100+col,CELL_SIZE,CELL_SIZE,cellBackground)\n",
    "\n",
    "    def buildBoardView(self):\n",
    "        board = '<table style=\"background:#000;border-collapse:separate;border-spacing:0px\">'\n",
    "        for row in range(self.boardHeight):\n",
    "            board += '<tr>'\n",
    "            for col in range(self.boardWidth):\n",
    "                board += self.getCell(row,col)\n",
    "            board += '</tr>'\n",
    "        board += '</table>'\n",
    "        return board\n",
    "\n",
    "    def setBoardView(self):\n",
    "        self.boardView = widgets.HTML(value=self.buildBoardView(),disabled=False)\n",
    "        return self.boardView\n",
    "\n",
    "    def setStateView(self):\n",
    "        ticks = widgets.Label(value=\"0000\")\n",
    "        score = widgets.Label(value=\"%04d\" % self.state['score'])\n",
    "        self.stateView = {'ticks': ticks, 'score': score}\n",
    "        return widgets.HBox([widgets.VBox([widgets.Label(value=\"Ticks\"),\n",
    "                                           widgets.Label(value=\"Score\")]),\n",
    "                                    widgets.VBox([widgets.Label(value=\": \"),\n",
    "                                                  widgets.Label(value=\": \")]),\n",
    "                                    widgets.VBox([ticks,score])])\n",
    "\n",
    "    def setActionButtons(self):\n",
    "        buttons = '<span>'\n",
    "        return widgets.HTML(value=buttons,disabled=False)\n",
    "\n",
    "    def gameStep(self):\n",
    "        self.executionManager()\n",
    "        self.state['ticks'] += 1\n",
    "        if self.display:\n",
    "            self.stateView['ticks'].value = \"%04d\" % self.state['ticks']\n",
    "            self.stateView['score'].value = \"%04d\" % self.state['score']\n",
    "            self.boardView.value = self.buildBoardView()\n",
    "        return False\n",
    "\n",
    "    def executionManager(self):\n",
    "        if self.gameStatus != 2:\n",
    "            for i in range(len(self.playerEntities)):\n",
    "                p = self.playerEntities[i]\n",
    "                report = self.playerActionReports[i]\n",
    "                etitiesSeen = self.entitiesSeenByPlayer(p)\n",
    "\n",
    "                action = p.chooseAction(etitiesSeen, report)\n",
    "                if action[0] == 'LOOK_AROUND':\n",
    "                    p.rotation = (p.rotation + action[1][0]) % 8\n",
    "                    self.playerActionReports[i] = [action,'OK']\n",
    "\n",
    "                if action[0] == 'WALK_FORWARD':\n",
    "                    desiredPosition = p.position + rots[p.rotation]\n",
    "                    if min(desiredPosition[0],desiredPosition[1]) >= 0 and desiredPosition[0] < self.boardHeight -1 and desiredPosition[1] < self.boardWidth-1:\n",
    "                        p.position = desiredPosition\n",
    "                        self.playerActionReports[i] = [action,'OK']\n",
    "                        self.boardVisits[p.position[0],p.position[1]] += 1\n",
    "                    else:\n",
    "                        self.playerActionReports[i] = [action,'INTERRUPTED']\n",
    "\n",
    "                elif action[0] == 'WALK_TOWARDS':\n",
    "                    goal = action[1][0]\n",
    "                    dif = goal - p.position\n",
    "                    x = np.sign(dif[0])\n",
    "                    y = np.sign(dif[1])\n",
    "                    if p.distanceToPos(goal) == 1:\n",
    "                        self.playerActionReports[i] = [action,'OK']\n",
    "                    else:\n",
    "                        self.playerActionReports[i] = [action,'PROGRESS']\n",
    "                    if p.distanceToPos(goal) > 0: p.rotation = rots.index((x,y))\n",
    "                    p.position += np.array([x,y])\n",
    "                    self.boardVisits[p.position[0],p.position[1]] += 1\n",
    "\n",
    "                elif action[0] == 'PICK_UP':\n",
    "                    es = self.entitiesInCell(p.position[0],p.position[1])\n",
    "                    found = False\n",
    "                    if len(es)>0:\n",
    "                        for e in es:\n",
    "                            if e != None and e.entityType == 'PICKABLE_OBJECT':\n",
    "                                self.gameEntities.remove(e)\n",
    "                                found = True\n",
    "                    if found:\n",
    "                        self.playerActionReports[i] = [action,'OK']\n",
    "                    else: self.playerActionReports[i] = [action,'INTERRUPTED']\n",
    "            if self.log: print(self.playerActionReports)\n",
    "\n",
    "            if self.hasGuide:\n",
    "                p = self.playerEntities[0]\n",
    "                self.goals = sorted(self.goals, key=lambda g: p.distanceToPos(g.position))\n",
    "                if len(self.goals) > 0 and p.distanceToPos(self.goals[0].position) == 0:\n",
    "                    self.reward = 1.\n",
    "                    self.gameEntities.remove(self.goals[0])\n",
    "                    self.goals.remove(self.goals[0])\n",
    "                if len(self.goals) > 0:\n",
    "                    g = self.goals[0]\n",
    "                    state = (g.position[0]-p.position[0],g.position[1]-p.position[1])\n",
    "                else: \n",
    "                    state = 'terminal'\n",
    "                guideAction = self.guide.chooseAction(self.guideActionReport,state)\n",
    "                if guideAction[0] == 'SLEEP':\n",
    "                    guideAction[1][0] -= 1\n",
    "                    if guideAction[1][0] == 0: \n",
    "                        self.guideActionReport = [guideAction,'OK']\n",
    "                        #learn\n",
    "                        if self.oldState != 'start':\n",
    "                            self.guide.learn(self.oldState,self.lastAction,self.reward,state)\n",
    "                            self.oldState = state\n",
    "                            self.reward = -0.01\n",
    "                            if state == 'terminal':\n",
    "                                self.stopGame()\n",
    "                        else:\n",
    "                            self.oldState = state\n",
    "                    else: self.guideActionReport = [guideAction,'PROGRESS']\n",
    "                if guideAction[0] == 'SPAWN_OBJECT':\n",
    "                    newObject = {'type': 'PICKABLE_OBJECT', 'row': 0, 'col': 0, 'size': 1, 'id': 1, 'rot': 0}\n",
    "                    if guideAction[1][0] == 'random':\n",
    "                        newObject['row'] = np.random.randint(0, self.boardHeight)\n",
    "                        newObject['col'] = np.random.randint(0, self.boardWidth)\n",
    "                        self.gameEntities.append(Entity(newObject))\n",
    "                    else:\n",
    "                        self.state['score'] += 1\n",
    "                        self.lastAction = guideAction[1][0]\n",
    "                        rot = guideAction[1][0][0]\n",
    "                        dist = guideAction[1][0][1]\n",
    "                        r = p.position[0] + dist * rots[rot][0]\n",
    "                        c = p.position[1] + dist * rots[rot][1]\n",
    "                        if r in range(0, self.boardHeight) and c in range(0, self.boardWidth):\n",
    "                            newObject['row'] = r\n",
    "                            newObject['col'] = c\n",
    "                            self.gameEntities.append(Entity(newObject))\n",
    "                    self.guideActionReport = [['SLEEP',[self.guide.sleepTime]],'PROGRESS']\n",
    "        return"
   ]
  },
  {
   "cell_type": "code",
   "execution_count": 6,
   "metadata": {
    "collapsed": true
   },
   "outputs": [],
   "source": [
    "import pickle\n",
    "def save_obj(obj, name):\n",
    "    with open('obj/'+ name + '.pkl', 'wb') as f:\n",
    "        pickle.dump(obj, f, pickle.HIGHEST_PROTOCOL)\n",
    "\n",
    "def load_obj(name ):\n",
    "    with open('obj/' + name + '.pkl', 'rb') as f:\n",
    "        return pickle.load(f)"
   ]
  },
  {
   "cell_type": "code",
   "execution_count": 7,
   "metadata": {
    "collapsed": true
   },
   "outputs": [],
   "source": [
    "Q = {}"
   ]
  },
  {
   "cell_type": "markdown",
   "metadata": {},
   "source": [
    "### Training"
   ]
  },
  {
   "cell_type": "code",
   "execution_count": 8,
   "metadata": {
    "collapsed": true
   },
   "outputs": [
    {
     "name": "stdout",
     "output_type": "stream",
     "text": [
      "Start with 10_0-SMALL\n"
     ]
    },
    {
     "ename": "KeyboardInterrupt",
     "evalue": "",
     "output_type": "error",
     "traceback": [
      "\u001b[1;31m---------------------------------------------------------------------------\u001b[0m",
      "\u001b[1;31mKeyboardInterrupt\u001b[0m                         Traceback (most recent call last)",
      "\u001b[1;32m<ipython-input-8-652c43d76873>\u001b[0m in \u001b[0;36m<module>\u001b[1;34m()\u001b[0m\n\u001b[0;32m     31\u001b[0m         \u001b[1;32mfor\u001b[0m \u001b[0mi\u001b[0m \u001b[1;32min\u001b[0m \u001b[0mrange\u001b[0m\u001b[1;33m(\u001b[0m\u001b[0mepochs\u001b[0m\u001b[1;33m)\u001b[0m\u001b[1;33m:\u001b[0m\u001b[1;33m\u001b[0m\u001b[0m\n\u001b[0;32m     32\u001b[0m             \u001b[1;32mif\u001b[0m \u001b[0mj\u001b[0m \u001b[1;33m==\u001b[0m \u001b[0mlen\u001b[0m\u001b[1;33m(\u001b[0m\u001b[0mpersonalities\u001b[0m\u001b[1;33m)\u001b[0m\u001b[1;33m:\u001b[0m \u001b[0mLM\u001b[0m \u001b[1;33m=\u001b[0m \u001b[0mLearnManager\u001b[0m\u001b[1;33m(\u001b[0m\u001b[0mQ0\u001b[0m \u001b[1;33m=\u001b[0m \u001b[0mQ\u001b[0m\u001b[1;33m,\u001b[0m \u001b[0miterations\u001b[0m \u001b[1;33m=\u001b[0m \u001b[0mits_per_epoch\u001b[0m\u001b[1;33m,\u001b[0m \u001b[0meps\u001b[0m \u001b[1;33m=\u001b[0m \u001b[1;36m0.15\u001b[0m\u001b[1;33m,\u001b[0m \u001b[0mdisp\u001b[0m \u001b[1;33m=\u001b[0m \u001b[1;32mFalse\u001b[0m\u001b[1;33m,\u001b[0m \u001b[0midle\u001b[0m \u001b[1;33m=\u001b[0m \u001b[0mpersonalities\u001b[0m\u001b[1;33m[\u001b[0m\u001b[0mnp\u001b[0m\u001b[1;33m.\u001b[0m\u001b[0mrandom\u001b[0m\u001b[1;33m.\u001b[0m\u001b[0mrandint\u001b[0m\u001b[1;33m(\u001b[0m\u001b[0mlen\u001b[0m\u001b[1;33m(\u001b[0m\u001b[0mpersonalities\u001b[0m\u001b[1;33m)\u001b[0m\u001b[1;33m)\u001b[0m\u001b[1;33m]\u001b[0m\u001b[1;33m)\u001b[0m\u001b[1;33m\u001b[0m\u001b[0m\n\u001b[1;32m---> 33\u001b[1;33m             \u001b[1;32melse\u001b[0m\u001b[1;33m:\u001b[0m \u001b[0mLM\u001b[0m \u001b[1;33m=\u001b[0m \u001b[0mLearnManager\u001b[0m\u001b[1;33m(\u001b[0m\u001b[0mQ0\u001b[0m \u001b[1;33m=\u001b[0m \u001b[0mQ\u001b[0m\u001b[1;33m,\u001b[0m \u001b[0miterations\u001b[0m \u001b[1;33m=\u001b[0m \u001b[0mits_per_epoch\u001b[0m\u001b[1;33m,\u001b[0m \u001b[0meps\u001b[0m \u001b[1;33m=\u001b[0m \u001b[1;36m0.15\u001b[0m\u001b[1;33m,\u001b[0m \u001b[0mdisp\u001b[0m \u001b[1;33m=\u001b[0m \u001b[1;32mFalse\u001b[0m\u001b[1;33m,\u001b[0m \u001b[0midle\u001b[0m \u001b[1;33m=\u001b[0m \u001b[0mpersonalities\u001b[0m\u001b[1;33m[\u001b[0m\u001b[0mj\u001b[0m\u001b[1;33m]\u001b[0m\u001b[1;33m)\u001b[0m\u001b[1;33m\u001b[0m\u001b[0m\n\u001b[0m\u001b[0;32m     34\u001b[0m             \u001b[1;31m#ax.clear()\u001b[0m\u001b[1;33m\u001b[0m\u001b[1;33m\u001b[0m\u001b[0m\n\u001b[0;32m     35\u001b[0m             \u001b[1;31m#ax.hist(ticks)\u001b[0m\u001b[1;33m\u001b[0m\u001b[1;33m\u001b[0m\u001b[0m\n",
      "\u001b[1;32m<ipython-input-4-17e477db134e>\u001b[0m in \u001b[0;36m__init__\u001b[1;34m(self, Q0, iterations, eps, sleepTime, disp, idle)\u001b[0m\n\u001b[0;32m     30\u001b[0m                 \u001b[1;31m#clear_output()\u001b[0m\u001b[1;33m\u001b[0m\u001b[1;33m\u001b[0m\u001b[0m\n\u001b[0;32m     31\u001b[0m                 self.sGame = SimGame(entities=gameEntities, updateTime = self.sleepTime, pEntities=playerEntities,aiguide=True,\n\u001b[1;32m---> 32\u001b[1;33m                                  decisionLog = False, guideSleepTime = 13, Q0 = self.Q, eps = e, lm = self, disp = self.showDisp, idle = idle)\n\u001b[0m\u001b[0;32m     33\u001b[0m                 \u001b[0mself\u001b[0m\u001b[1;33m.\u001b[0m\u001b[0mQ\u001b[0m \u001b[1;33m=\u001b[0m \u001b[0mself\u001b[0m\u001b[1;33m.\u001b[0m\u001b[0msGame\u001b[0m\u001b[1;33m.\u001b[0m\u001b[0mguide\u001b[0m\u001b[1;33m.\u001b[0m\u001b[0mQ\u001b[0m\u001b[1;33m\u001b[0m\u001b[0m\n\u001b[0;32m     34\u001b[0m                 \u001b[0mself\u001b[0m\u001b[1;33m.\u001b[0m\u001b[0miterations\u001b[0m \u001b[1;33m-=\u001b[0m \u001b[1;36m1\u001b[0m\u001b[1;33m\u001b[0m\u001b[0m\n",
      "\u001b[1;32m<ipython-input-5-26fd4f3945f1>\u001b[0m in \u001b[0;36m__init__\u001b[1;34m(self, updateTime, entities, pEntities, aiguide, decisionLog, guideSleepTime, Q0, eps, lm, disp, idle)\u001b[0m\n\u001b[0;32m     41\u001b[0m                 \u001b[0mself\u001b[0m\u001b[1;33m.\u001b[0m\u001b[0mplayerActionReports\u001b[0m\u001b[1;33m.\u001b[0m\u001b[0mappend\u001b[0m\u001b[1;33m(\u001b[0m\u001b[1;33m[\u001b[0m\u001b[1;33m[\u001b[0m\u001b[1;34m'IDLE'\u001b[0m\u001b[1;33m,\u001b[0m\u001b[1;33m[\u001b[0m\u001b[1;33m]\u001b[0m\u001b[1;33m]\u001b[0m\u001b[1;33m,\u001b[0m\u001b[1;34m'OK'\u001b[0m\u001b[1;33m]\u001b[0m\u001b[1;33m)\u001b[0m\u001b[1;33m\u001b[0m\u001b[0m\n\u001b[0;32m     42\u001b[0m \u001b[1;33m\u001b[0m\u001b[0m\n\u001b[1;32m---> 43\u001b[1;33m         \u001b[0mGame\u001b[0m\u001b[1;33m.\u001b[0m\u001b[0m__init__\u001b[0m\u001b[1;33m(\u001b[0m\u001b[0mself\u001b[0m\u001b[1;33m,\u001b[0m \u001b[0mshowDisplay\u001b[0m\u001b[1;33m=\u001b[0m\u001b[0mdisp\u001b[0m\u001b[1;33m,\u001b[0m \u001b[0mupdateTime\u001b[0m \u001b[1;33m=\u001b[0m \u001b[0mupdateTime\u001b[0m\u001b[1;33m)\u001b[0m\u001b[1;33m\u001b[0m\u001b[0m\n\u001b[0m\u001b[0;32m     44\u001b[0m \u001b[1;33m\u001b[0m\u001b[0m\n\u001b[0;32m     45\u001b[0m     \u001b[1;32mdef\u001b[0m \u001b[0mentitiesInCell\u001b[0m\u001b[1;33m(\u001b[0m\u001b[0mself\u001b[0m\u001b[1;33m,\u001b[0m\u001b[0mrow\u001b[0m\u001b[1;33m,\u001b[0m\u001b[0mcol\u001b[0m\u001b[1;33m)\u001b[0m\u001b[1;33m:\u001b[0m\u001b[1;33m\u001b[0m\u001b[0m\n",
      "\u001b[1;32mC:\\Users\\Sergi\\Desktop\\Draga2Dnb\\draga-2d\\game.py\u001b[0m in \u001b[0;36m__init__\u001b[1;34m(self, showDisplay, updateTime)\u001b[0m\n\u001b[0;32m     59\u001b[0m         \u001b[1;32melse\u001b[0m\u001b[1;33m:\u001b[0m\u001b[1;33m\u001b[0m\u001b[0m\n\u001b[0;32m     60\u001b[0m             \u001b[0mself\u001b[0m\u001b[1;33m.\u001b[0m\u001b[0mgameStatus\u001b[0m \u001b[1;33m=\u001b[0m \u001b[0mRUNNING\u001b[0m\u001b[1;33m\u001b[0m\u001b[0m\n\u001b[1;32m---> 61\u001b[1;33m             \u001b[0mself\u001b[0m\u001b[1;33m.\u001b[0m\u001b[0mplayGame\u001b[0m\u001b[1;33m(\u001b[0m\u001b[1;33m)\u001b[0m\u001b[1;33m\u001b[0m\u001b[0m\n\u001b[0m\u001b[0;32m     62\u001b[0m \u001b[1;33m\u001b[0m\u001b[0m\n\u001b[0;32m     63\u001b[0m     \u001b[1;32mdef\u001b[0m \u001b[0msetGameStatus\u001b[0m\u001b[1;33m(\u001b[0m\u001b[0mself\u001b[0m\u001b[1;33m,\u001b[0m\u001b[0mbutton\u001b[0m\u001b[1;33m)\u001b[0m\u001b[1;33m:\u001b[0m\u001b[1;33m\u001b[0m\u001b[0m\n",
      "\u001b[1;32mC:\\Users\\Sergi\\Desktop\\Draga2Dnb\\draga-2d\\game.py\u001b[0m in \u001b[0;36mplayGame\u001b[1;34m(self)\u001b[0m\n\u001b[0;32m     79\u001b[0m                 \u001b[1;32mbreak\u001b[0m\u001b[1;33m\u001b[0m\u001b[0m\n\u001b[0;32m     80\u001b[0m             \u001b[1;32melif\u001b[0m \u001b[0mself\u001b[0m\u001b[1;33m.\u001b[0m\u001b[0mgameStatus\u001b[0m\u001b[1;33m==\u001b[0m\u001b[0mRUNNING\u001b[0m\u001b[1;33m:\u001b[0m\u001b[1;33m\u001b[0m\u001b[0m\n\u001b[1;32m---> 81\u001b[1;33m                 \u001b[0mself\u001b[0m\u001b[1;33m.\u001b[0m\u001b[0mgameStep\u001b[0m\u001b[1;33m(\u001b[0m\u001b[1;33m)\u001b[0m\u001b[1;33m\u001b[0m\u001b[0m\n\u001b[0m\u001b[0;32m     82\u001b[0m             \u001b[1;32mif\u001b[0m \u001b[0mself\u001b[0m\u001b[1;33m.\u001b[0m\u001b[0mdisplay\u001b[0m\u001b[1;33m:\u001b[0m \u001b[0mtime\u001b[0m\u001b[1;33m.\u001b[0m\u001b[0msleep\u001b[0m\u001b[1;33m(\u001b[0m\u001b[0mself\u001b[0m\u001b[1;33m.\u001b[0m\u001b[0mSLEEP_TIME\u001b[0m\u001b[1;33m)\u001b[0m\u001b[1;33m\u001b[0m\u001b[0m\n",
      "\u001b[1;32m<ipython-input-5-26fd4f3945f1>\u001b[0m in \u001b[0;36mgameStep\u001b[1;34m(self)\u001b[0m\n\u001b[0;32m    136\u001b[0m \u001b[1;33m\u001b[0m\u001b[0m\n\u001b[0;32m    137\u001b[0m     \u001b[1;32mdef\u001b[0m \u001b[0mgameStep\u001b[0m\u001b[1;33m(\u001b[0m\u001b[0mself\u001b[0m\u001b[1;33m)\u001b[0m\u001b[1;33m:\u001b[0m\u001b[1;33m\u001b[0m\u001b[0m\n\u001b[1;32m--> 138\u001b[1;33m         \u001b[0mself\u001b[0m\u001b[1;33m.\u001b[0m\u001b[0mexecutionManager\u001b[0m\u001b[1;33m(\u001b[0m\u001b[1;33m)\u001b[0m\u001b[1;33m\u001b[0m\u001b[0m\n\u001b[0m\u001b[0;32m    139\u001b[0m         \u001b[0mself\u001b[0m\u001b[1;33m.\u001b[0m\u001b[0mstate\u001b[0m\u001b[1;33m[\u001b[0m\u001b[1;34m'ticks'\u001b[0m\u001b[1;33m]\u001b[0m \u001b[1;33m+=\u001b[0m \u001b[1;36m1\u001b[0m\u001b[1;33m\u001b[0m\u001b[0m\n\u001b[0;32m    140\u001b[0m         \u001b[1;32mif\u001b[0m \u001b[0mself\u001b[0m\u001b[1;33m.\u001b[0m\u001b[0mdisplay\u001b[0m\u001b[1;33m:\u001b[0m\u001b[1;33m\u001b[0m\u001b[0m\n",
      "\u001b[1;32m<ipython-input-5-26fd4f3945f1>\u001b[0m in \u001b[0;36mexecutionManager\u001b[1;34m(self)\u001b[0m\n\u001b[0;32m    151\u001b[0m                 \u001b[0metitiesSeen\u001b[0m \u001b[1;33m=\u001b[0m \u001b[0mself\u001b[0m\u001b[1;33m.\u001b[0m\u001b[0mentitiesSeenByPlayer\u001b[0m\u001b[1;33m(\u001b[0m\u001b[0mp\u001b[0m\u001b[1;33m)\u001b[0m\u001b[1;33m\u001b[0m\u001b[0m\n\u001b[0;32m    152\u001b[0m \u001b[1;33m\u001b[0m\u001b[0m\n\u001b[1;32m--> 153\u001b[1;33m                 \u001b[0maction\u001b[0m \u001b[1;33m=\u001b[0m \u001b[0mp\u001b[0m\u001b[1;33m.\u001b[0m\u001b[0mchooseAction\u001b[0m\u001b[1;33m(\u001b[0m\u001b[0metitiesSeen\u001b[0m\u001b[1;33m,\u001b[0m \u001b[0mreport\u001b[0m\u001b[1;33m)\u001b[0m\u001b[1;33m\u001b[0m\u001b[0m\n\u001b[0m\u001b[0;32m    154\u001b[0m                 \u001b[1;32mif\u001b[0m \u001b[0maction\u001b[0m\u001b[1;33m[\u001b[0m\u001b[1;36m0\u001b[0m\u001b[1;33m]\u001b[0m \u001b[1;33m==\u001b[0m \u001b[1;34m'LOOK_AROUND'\u001b[0m\u001b[1;33m:\u001b[0m\u001b[1;33m\u001b[0m\u001b[0m\n\u001b[0;32m    155\u001b[0m                     \u001b[0mp\u001b[0m\u001b[1;33m.\u001b[0m\u001b[0mrotation\u001b[0m \u001b[1;33m=\u001b[0m \u001b[1;33m(\u001b[0m\u001b[0mp\u001b[0m\u001b[1;33m.\u001b[0m\u001b[0mrotation\u001b[0m \u001b[1;33m+\u001b[0m \u001b[0maction\u001b[0m\u001b[1;33m[\u001b[0m\u001b[1;36m1\u001b[0m\u001b[1;33m]\u001b[0m\u001b[1;33m[\u001b[0m\u001b[1;36m0\u001b[0m\u001b[1;33m]\u001b[0m\u001b[1;33m)\u001b[0m \u001b[1;33m%\u001b[0m \u001b[1;36m8\u001b[0m\u001b[1;33m\u001b[0m\u001b[0m\n",
      "\u001b[1;32mC:\\Users\\Sergi\\Desktop\\Draga2Dnb\\draga-2d\\entity.py\u001b[0m in \u001b[0;36mchooseAction\u001b[1;34m(self, seen, action_report)\u001b[0m\n\u001b[0;32m     43\u001b[0m \u001b[1;33m\u001b[0m\u001b[0m\n\u001b[0;32m     44\u001b[0m         \u001b[1;32melif\u001b[0m \u001b[0maction_report\u001b[0m\u001b[1;33m[\u001b[0m\u001b[1;36m0\u001b[0m\u001b[1;33m]\u001b[0m\u001b[1;33m[\u001b[0m\u001b[1;36m0\u001b[0m\u001b[1;33m]\u001b[0m \u001b[1;33m==\u001b[0m \u001b[1;34m'LOOK_AROUND'\u001b[0m \u001b[1;32mor\u001b[0m \u001b[0maction_report\u001b[0m\u001b[1;33m[\u001b[0m\u001b[1;36m0\u001b[0m\u001b[1;33m]\u001b[0m\u001b[1;33m[\u001b[0m\u001b[1;36m0\u001b[0m\u001b[1;33m]\u001b[0m \u001b[1;33m==\u001b[0m \u001b[1;34m'WALK_FORWARD'\u001b[0m \u001b[1;33m:\u001b[0m\u001b[1;33m\u001b[0m\u001b[0m\n\u001b[1;32m---> 45\u001b[1;33m             \u001b[1;32mreturn\u001b[0m \u001b[0mself\u001b[0m\u001b[1;33m.\u001b[0m\u001b[0midleDecision\u001b[0m\u001b[1;33m(\u001b[0m\u001b[0mseen\u001b[0m\u001b[1;33m)\u001b[0m\u001b[1;33m\u001b[0m\u001b[0m\n\u001b[0m\u001b[0;32m     46\u001b[0m \u001b[1;33m\u001b[0m\u001b[0m\n\u001b[0;32m     47\u001b[0m         \u001b[1;32melif\u001b[0m \u001b[0maction_report\u001b[0m\u001b[1;33m[\u001b[0m\u001b[1;36m0\u001b[0m\u001b[1;33m]\u001b[0m\u001b[1;33m[\u001b[0m\u001b[1;36m0\u001b[0m\u001b[1;33m]\u001b[0m \u001b[1;33m==\u001b[0m \u001b[1;34m'WALK_TOWARDS'\u001b[0m\u001b[1;33m:\u001b[0m\u001b[1;33m\u001b[0m\u001b[0m\n",
      "\u001b[1;32mC:\\Users\\Sergi\\Desktop\\Draga2Dnb\\draga-2d\\entity.py\u001b[0m in \u001b[0;36midleDecision\u001b[1;34m(self, seen)\u001b[0m\n\u001b[0;32m     81\u001b[0m                 \u001b[1;32mreturn\u001b[0m \u001b[1;33m[\u001b[0m\u001b[1;34m'PICK_UP'\u001b[0m\u001b[1;33m,\u001b[0m\u001b[1;33m[\u001b[0m\u001b[1;33m]\u001b[0m\u001b[1;33m]\u001b[0m\u001b[1;33m\u001b[0m\u001b[0m\n\u001b[0;32m     82\u001b[0m             \u001b[1;32mreturn\u001b[0m \u001b[1;33m[\u001b[0m\u001b[1;34m'WALK_TOWARDS'\u001b[0m\u001b[1;33m,\u001b[0m\u001b[1;33m[\u001b[0m\u001b[0mcandidates_walk\u001b[0m\u001b[1;33m[\u001b[0m\u001b[1;36m0\u001b[0m\u001b[1;33m]\u001b[0m\u001b[1;33m]\u001b[0m\u001b[1;33m]\u001b[0m\u001b[1;33m\u001b[0m\u001b[0m\n\u001b[1;32m---> 83\u001b[1;33m         \u001b[1;32mreturn\u001b[0m \u001b[0mtools\u001b[0m\u001b[1;33m.\u001b[0m\u001b[0mweighted_choice\u001b[0m\u001b[1;33m(\u001b[0m\u001b[0mself\u001b[0m\u001b[1;33m.\u001b[0m\u001b[0midleChoices\u001b[0m\u001b[1;33m)\u001b[0m\u001b[1;33m\u001b[0m\u001b[0m\n\u001b[0m\u001b[0;32m     84\u001b[0m \u001b[1;33m\u001b[0m\u001b[0m\n\u001b[0;32m     85\u001b[0m \u001b[1;32mclass\u001b[0m \u001b[0mAIGuide\u001b[0m\u001b[1;33m(\u001b[0m\u001b[1;33m)\u001b[0m\u001b[1;33m:\u001b[0m\u001b[1;33m\u001b[0m\u001b[0m\n",
      "\u001b[1;32mC:\\Users\\Sergi\\Desktop\\Draga2Dnb\\draga-2d\\tools.py\u001b[0m in \u001b[0;36mweighted_choice\u001b[1;34m(choices)\u001b[0m\n\u001b[0;32m      3\u001b[0m \u001b[1;32mdef\u001b[0m \u001b[0mweighted_choice\u001b[0m\u001b[1;33m(\u001b[0m\u001b[0mchoices\u001b[0m\u001b[1;33m)\u001b[0m\u001b[1;33m:\u001b[0m\u001b[1;33m\u001b[0m\u001b[0m\n\u001b[0;32m      4\u001b[0m     \u001b[0mtotal\u001b[0m \u001b[1;33m=\u001b[0m \u001b[0msum\u001b[0m\u001b[1;33m(\u001b[0m\u001b[0mw\u001b[0m \u001b[1;32mfor\u001b[0m \u001b[0mc\u001b[0m\u001b[1;33m,\u001b[0m \u001b[0mw\u001b[0m \u001b[1;32min\u001b[0m \u001b[0mchoices\u001b[0m\u001b[1;33m)\u001b[0m\u001b[1;33m\u001b[0m\u001b[0m\n\u001b[1;32m----> 5\u001b[1;33m     \u001b[0mr\u001b[0m \u001b[1;33m=\u001b[0m \u001b[0mrandom\u001b[0m\u001b[1;33m.\u001b[0m\u001b[0muniform\u001b[0m\u001b[1;33m(\u001b[0m\u001b[1;36m0\u001b[0m\u001b[1;33m,\u001b[0m \u001b[0mtotal\u001b[0m\u001b[1;33m)\u001b[0m\u001b[1;33m\u001b[0m\u001b[0m\n\u001b[0m\u001b[0;32m      6\u001b[0m     \u001b[0mupto\u001b[0m \u001b[1;33m=\u001b[0m \u001b[1;36m0\u001b[0m\u001b[1;33m\u001b[0m\u001b[0m\n\u001b[0;32m      7\u001b[0m     \u001b[1;32mfor\u001b[0m \u001b[0mc\u001b[0m\u001b[1;33m,\u001b[0m \u001b[0mw\u001b[0m \u001b[1;32min\u001b[0m \u001b[0mchoices\u001b[0m\u001b[1;33m:\u001b[0m\u001b[1;33m\u001b[0m\u001b[0m\n",
      "\u001b[1;31mKeyboardInterrupt\u001b[0m: "
     ]
    }
   ],
   "source": [
    "levels = []\n",
    "layouts = ['SMALL','MEDIUM','BIG']\n",
    "savePlace = [\"10_0\",\"9_1\",\"8_2\",\"7_3\",\"Random\"]\n",
    "personalities = [(10,0),(9,1),(8,2),(7,3)]\n",
    "levels = load_obj(\"Levels\")\n",
    "\n",
    "for k in range(len(layouts)):\n",
    "    #levels.append(createLevelLayout(layouts[k]))\n",
    "    loadLevel(levels[k])\n",
    "    for j in range(len(personalities) + 1):\n",
    "        print(\"Start with \" + savePlace[j]+'-'+layouts[k])\n",
    "        Q = load_obj(savePlace[j]+'-'+layouts[k])\n",
    "        #Q = {}\n",
    "        epochs = 1000\n",
    "        its_per_epoch = 100\n",
    "        if j == len(personalities):\n",
    "            epochs *= 100\n",
    "            its_per_epoch /= 100\n",
    "            \n",
    "        ticks = []\n",
    "\n",
    "        for i in range(epochs):\n",
    "            if j == len(personalities): LM = LearnManager(Q0 = Q, iterations = its_per_epoch, eps = 0.75, disp = False, idle = personalities[np.random.randint(len(personalities))])\n",
    "            else: LM = LearnManager(Q0 = Q, iterations = its_per_epoch, eps = 0.75, disp = False, idle = personalities[j])\n",
    "            Q = LM.Q\n",
    "        print(\"Done with \" + savePlace[j]+'-'+layouts[k])\n",
    "        save_obj(Q,savePlace[j]+'-'+layouts[k])\n",
    "\n",
    "print(\"DONE\")\n",
    "save_obj(levels,\"Levels\")"
   ]
  },
  {
   "cell_type": "markdown",
   "metadata": {},
   "source": [
    "### Tests"
   ]
  },
  {
   "cell_type": "code",
   "execution_count": 7,
   "metadata": {},
   "outputs": [
    {
     "data": {
      "application/vnd.jupyter.widget-view+json": {
       "model_id": "187b2bd6df9e4b1ba549265cea505e34"
      }
     },
     "metadata": {},
     "output_type": "display_data"
    },
    {
     "name": "stdout",
     "output_type": "stream",
     "text": [
      "Starting job # 0 in a separate thread.\n",
      "No jobs to flush.\n"
     ]
    }
   ],
   "source": [
    "levels = load_obj(\"Levels\")\n",
    "loadLevel(levels[1])\n",
    "Q = load_obj(\"10_0-MEDIUM\")\n",
    "LM = LearnManager(Q0 = Q, iterations = 1, eps = 0, sleepTime = .1, disp = True, idle = (10,0))"
   ]
  },
  {
   "cell_type": "code",
   "execution_count": 13,
   "metadata": {},
   "outputs": [
    {
     "data": {
      "application/vnd.jupyter.widget-view+json": {
       "model_id": "6de7efea8f674009bca0ebd71905901d",
       "version_major": 2,
       "version_minor": 0
      },
      "text/plain": [
       "HBox(children=(HTML(value='<table style=\"background:#000;border-collapse:separate;border-spacing:0px\"><tr><td …"
      ]
     },
     "metadata": {},
     "output_type": "display_data"
    }
   ],
   "source": [
    "levels = load_obj(\"Levels\")\n",
    "loadLevel(levels[1])\n",
    "Q = load_obj(\"9_1-MEDIUM\")\n",
    "LM = LearnManager(Q0 = Q, iterations = 1, eps = 0, sleepTime = .2, disp = True, idle = (9,1))"
   ]
  },
  {
   "cell_type": "code",
   "execution_count": 21,
   "metadata": {},
   "outputs": [
    {
     "data": {
      "application/vnd.jupyter.widget-view+json": {
       "model_id": "d6427ca92a1f4bcc9ff8b427aee6c3f8"
      }
     },
     "metadata": {},
     "output_type": "display_data"
    },
    {
     "name": "stdout",
     "output_type": "stream",
     "text": [
      "Starting job # 0 in a separate thread.\n"
     ]
    }
   ],
   "source": [
    "levels = load_obj(\"Levels\")\n",
    "loadLevel(levels[2])\n",
    "Q = load_obj(\"10_0-BIG\")\n",
    "LM = LearnManager(Q0 = Q, iterations = 1, eps = 0, sleepTime = .01, disp = True, idle = (10,0))"
   ]
  }
 ],
 "metadata": {
  "kernelspec": {
   "display_name": "Python 3",
   "language": "python",
   "name": "python3"
  },
  "language_info": {
   "codemirror_mode": {
    "name": "ipython",
    "version": 3
   },
   "file_extension": ".py",
   "mimetype": "text/x-python",
   "name": "python",
   "nbconvert_exporter": "python",
   "pygments_lexer": "ipython3",
   "version": "3.6.1"
  }
 },
 "nbformat": 4,
 "nbformat_minor": 2
}
