{
 "cells": [
  {
   "cell_type": "markdown",
   "metadata": {},
   "source": [
    "## IPYwidgeds with a 2D representation example of la Draga"
   ]
  },
  {
   "cell_type": "code",
   "execution_count": 1,
   "metadata": {
    "collapsed": true
   },
   "outputs": [],
   "source": [
    "from game import Game\n",
    "from lxml import etree\n",
    "import json\n",
    "import ipywidgets as widgets"
   ]
  },
  {
   "cell_type": "code",
   "execution_count": 2,
   "metadata": {
    "collapsed": true
   },
   "outputs": [],
   "source": [
    "RESOURCES = None\n",
    "with open('draga_resources.json','r') as f:\n",
    "    RESOURCES = json.load(f)\n",
    "\n",
    "SPEC = None\n",
    "with open('draga_spec.json','r') as f:\n",
    "    SPEC = json.load(f)\n",
    "\n",
    "ACTIONS = {}\n",
    "for action in SPEC['actions']:\n",
    "    if 'subactions' in action:\n",
    "        for subact in action['subactions']:\n",
    "            ACTIONS[subact['name']] = subact\n",
    "    else:\n",
    "        ACTIONS[action['name']] = action\n",
    "\n",
    "CELL_SIZE = 24\n"
   ]
  },
  {
   "cell_type": "code",
   "execution_count": 3,
   "metadata": {
    "collapsed": true
   },
   "outputs": [],
   "source": [
    "def parseBoard(boardInfo):\n",
    "    board = []\n",
    "    for row in boardInfo.xpath('background')[0].iter(\"row\"):\n",
    "        rowInfo = []\n",
    "        for cell in row.iter(\"cell\"):\n",
    "            rowInfo.append(cell.attrib)\n",
    "        board.append(rowInfo)\n",
    "    return board\n",
    "\n",
    "def hammDist(fromPos,toPos):\n",
    "    return abs(fromPos[0]-toPos[0])+abs(fromPos[1]-toPos[1])\n"
   ]
  },
  {
   "cell_type": "code",
   "execution_count": 4,
   "metadata": {
    "collapsed": true
   },
   "outputs": [],
   "source": [
    "class DragaGame(Game):\n",
    "    board = None\n",
    "    gameEntities = []\n",
    "    pyVar = 'dGame' # Name of the python Variable\n",
    "    # Execution\n",
    "    selectedEntity = None\n",
    "    selectedPosition = None\n",
    "    selectedAction = None\n",
    "    selectedResource = None\n",
    "    openActions = []\n",
    "\n",
    "    def __init__(self,pyVar,entities=None):\n",
    "        self.pyVar = pyVar\n",
    "        # Entities\n",
    "        self.gameEntities = [{'type': 'Cabin', 'row': 9, 'col': 8, 'size': 2, 'id': 1, 'transform': 'transform: rotateY(180deg)'},\n",
    "                            {'type': 'Cabin', 'row': 9, 'col': 11, 'size': 2, 'id': 2},\n",
    "                            {'type': 'Cabin', 'row': 11, 'col': 7, 'size': 2, 'id': 3, 'transform': 'transform: rotateY(180deg)'},\n",
    "                            {'type': 'Cabin', 'row': 11, 'col': 12, 'size': 2, 'id': 4},\n",
    "                            {'type': 'Cabin', 'row': 12, 'col': 9, 'size': 2, 'id': 5}]\n",
    "        if entities==None:\n",
    "            self.gameEntities += [{'type': 'Adult', 'row': 4, 'col': 10, 'size': 1, 'id': 6},\n",
    "                                {'type': 'Adult', 'row': 8, 'col': 10, 'size': 1, 'id': 7,  'transform': 'transform: rotateY(180deg)'},\n",
    "                                {'type': 'Goat', 'row': 14, 'col': 14, 'size': 1, 'id': 8},\n",
    "                                {'type': 'Rabbit', 'row': 8, 'col': 27, 'size': 1, 'id': 9}]\n",
    "        else:\n",
    "            for e in entities:\n",
    "                self.addEntity(e['type'],e['row'],e['col'])\n",
    "        # Loading board\n",
    "        boardInfo = etree.parse(\"draga_landscape.xml\").getroot()\n",
    "        self.boardWidth = int(boardInfo.xpath('width')[0].text)\n",
    "        self.boardHeight = int(boardInfo.xpath('height')[0].text)\n",
    "        self.board = parseBoard(boardInfo)\n",
    "        self.state = {'ticks': 0, 'Wood': 500, 'Stones': 200}\n",
    "        Game.__init__(self)\n",
    "\n",
    "    def getID(self):\n",
    "        return 1+max([e['id'] for e in self.gameEntities])\n",
    "\n",
    "    def addEntity(self,entityType,row,col):\n",
    "        if entityType in SPEC['entities'].keys():\n",
    "            eSpec = SPEC['entities'][entityType]\n",
    "            new = {'type': entityType, 'row': row, 'col': col, 'size': eSpec['fields']['size'], 'id': self.getID()}\n",
    "            self.gameEntities.append(new)\n",
    "\n",
    "    def selectEntity(self,entityID):\n",
    "        entity = [e for e in self.gameEntities if e['id']==entityID ]\n",
    "        if entity==[]:\n",
    "            return False\n",
    "        else:\n",
    "            self.selectedEntity = entity[0]\n",
    "            return True\n",
    "\n",
    "    def selectAction(self,actionName):\n",
    "        self.selectedAction = actionName\n",
    "        if actionName=='Move' and self.selectedEntity!=None and self.selectedPosition!=None:\n",
    "            self.openActions.append({'type': actionName, 'entity': self.selectedEntity, 'row': self.selectedPosition[0], 'col': self.selectedPosition[1], 'status': 'Open'})\n",
    "            self.selectedAction = None\n",
    "            self.selectedPosition = None\n",
    "        elif actionName=='Cancel' and self.selectedEntity!=None:\n",
    "            for action in self.openActions:\n",
    "                if action['entity']['id'] == self.selectedEntity['id']:\n",
    "                    action['status'] = 'Closed'\n",
    "            self.selectedEntity = None\n",
    "            self.selectedAction = None\n",
    "            self.selectedPosition = None\n",
    "        return True\n",
    "\n",
    "    def setPosition(self,row,col):\n",
    "        self.selectedPosition = [row,col]\n",
    "        if self.selectedAction!=None and self.selectedAction=='Move' and self.selectedEntity!=None:\n",
    "            self.openActions.append({'type': self.selectedAction, 'entity': self.selectedEntity, 'row': row, 'col': col, 'status': 'Open'})\n",
    "            if self.selectedEntity['col']<col:\n",
    "                self.selectedEntity['transform'] = 'transform: rotateY(180deg)'\n",
    "            else:\n",
    "                if 'transform' in self.selectedEntity:\n",
    "                    del self.selectedEntity['transform']\n",
    "            self.selectedAction = None\n",
    "            self.selectedPosition = None\n",
    "\n",
    "    def selectResource(self,row,col):\n",
    "        self.selectedResource = [row,col]\n",
    "        self.selectedPosition = None\n",
    "        if self.selectedAction!=None and self.selectedAction=='Harvest' and self.selectedEntity!=None:\n",
    "            if self.board[row][col]['type']=='tree' and hammDist([row,col],[self.selectedEntity['row'],self.selectedEntity['col']])==1:\n",
    "                self.openActions.append({'type': 'HarvestWood', 'entity': self.selectedEntity, 'row': row, 'col': col, 'status': 'Open'})\n",
    "\n",
    "    def entityInCell(self,row,col):\n",
    "        for e in self.gameEntities:\n",
    "            if e['row']==row and e['col']==col:\n",
    "                return e\n",
    "            elif e['row']<=row and e['row']+e['size']>row and e['col']<=col and e['col']+e['size']>col:\n",
    "                return e\n",
    "        return None\n",
    "\n",
    "    def getCell(self,row,col):\n",
    "        cellType = self.board[row][col]['type']\n",
    "        cellBackground = '#229954'\n",
    "        if cellType=='s':\n",
    "            cellBackground = '#E59866'\n",
    "        elif cellType=='water':\n",
    "            cellBackground = '#22ADFD'\n",
    "        elif cellType=='fence':\n",
    "            cellBackground = '#873600'\n",
    "        entity = self.entityInCell(row,col)\n",
    "        if entity!=None:\n",
    "            if entity['row']==row and entity['col']==col:\n",
    "                etype = entity['type']\n",
    "                esize = CELL_SIZE*entity['size']\n",
    "                if 'transform' not in entity:\n",
    "                    entity['transform'] = \"\"\n",
    "                cell = '<td id=\"%04d\" style=\"width:%dpx;height:%dpx;background:%s;\"' % (row*100+col,esize,esize,cellBackground)\n",
    "                if entity['size']>1:\n",
    "                    cell += 'colspan=\"%d\" rowspan=\"%d\"' %(entity['size'],entity['size'])\n",
    "                cell += '>'\n",
    "                esize -= 2*entity['size']\n",
    "                cell += '<input type=\"image\" width=\"%dpx\" height=\"%dpx\" src=\"%s\" onclick=\"IPython.notebook.kernel.execute(\\'%s.selectEntity(%d)\\')\"' % (esize,esize,RESOURCES[etype],self.pyVar,entity['id'])\n",
    "                if self.selectedEntity!=None and self.selectedEntity[\"id\"]==entity[\"id\"]:\n",
    "                    cell += ' style=\"border: 1px solid black;' + entity['transform'] + '\"'\n",
    "                else:\n",
    "                    cell += ' style=\"%s\"' % entity['transform']\n",
    "                cell += '/></td>'\n",
    "                return cell\n",
    "            else:\n",
    "                return ''\n",
    "        elif cellType in ['.', 's', 'fence']:\n",
    "            cellInfo = self.board[row][col]\n",
    "            if 'alt' in cellInfo:\n",
    "                altBackground = '#229954'\n",
    "                if cellInfo['alt']=='s':\n",
    "                    altBackground = '#E59866'\n",
    "                elif cellInfo['alt']=='fence':\n",
    "                    altBackground = '#873600'\n",
    "                cellBackground = \"linear-gradient(%sdeg,%s %s%%,%s %d%%)\" % (cellInfo['angle'],cellBackground,cellInfo['width'],altBackground,100-int(cellInfo['width']))\n",
    "                return '<td id=\"%04d\" style=\"width:%dpx;height:%dpx;background:%s;cursor: pointer\" onclick=\"IPython.notebook.kernel.execute(\\'%s.setPosition(%d,%d)\\')\"> </td>' % (row*100+col,CELL_SIZE,CELL_SIZE,cellBackground,self.pyVar,row,col)\n",
    "            else:\n",
    "                return '<td id=\"%04d\" style=\"width:%dpx;height:%dpx;background:%s;cursor: pointer\" onclick=\"IPython.notebook.kernel.execute(\\'%s.setPosition(%d,%d)\\')\"> </td>' % (row*100+col,CELL_SIZE,CELL_SIZE,cellBackground,self.pyVar,row,col)\n",
    "        elif cellType=='water':\n",
    "            return '<td id=\"%04d\" style=\"width:%dpx;height:%dpx;background:#22ADFD\"><img width=\"%dpx\" height=\"%dpx\" src=\"%s\"/></td>' % (row*100+col,CELL_SIZE,CELL_SIZE,CELL_SIZE,CELL_SIZE,RESOURCES['water'])\n",
    "        elif cellType=='tree':\n",
    "            return '<td id=\"%04d\" style=\"width:%dpx;height:%dpx;background:#229954;cursor: pointer\"><img width=\"%dpx\" height=\"%dpx\" src=\"%s\" onclick=\"IPython.notebook.kernel.execute(\\'%s.selectResource(%d,%d)\\')\"/></td>' % (row*100+col,CELL_SIZE,CELL_SIZE,CELL_SIZE,CELL_SIZE,RESOURCES['tree'],self.pyVar,row,col)\n",
    "        elif cellType=='wood':\n",
    "            return '<td id=\"%04d\" style=\"width:%dpx;height:%dpx;background:#229954;cursor: pointer\"><img width=\"%dpx\" height=\"%dpx\" src=\"%s\" onclick=\"IPython.notebook.kernel.execute(\\'%s.selectResource(%d,%d)\\')\"/></td>' % (row*100+col,CELL_SIZE,CELL_SIZE,CELL_SIZE,CELL_SIZE,RESOURCES['wood'],self.pyVar,row,col)\n",
    "\n",
    "\n",
    "    def buildBoardView(self):\n",
    "        board = '<table style=\"background:#000;border-collapse:separate;border-spacing:0px\">'\n",
    "        for row in range(self.boardHeight):\n",
    "            board += '<tr>'\n",
    "            for col in range(self.boardWidth):\n",
    "                board += self.getCell(row,col)\n",
    "            board += '</tr>'\n",
    "        board += '</table>'\n",
    "        return board\n",
    "\n",
    "    def setBoardView(self):\n",
    "        self.boardView = widgets.HTML(value=self.buildBoardView(),disabled=False)\n",
    "        return self.boardView\n",
    "\n",
    "    def setStateView(self):\n",
    "        ticks = widgets.Label(value=\"0000\")\n",
    "        wood = widgets.Label(value=\"%04d\" % self.state['Wood'])\n",
    "        stones = widgets.Label(value=\"%04d\" % self.state['Stones'])\n",
    "        self.stateView = {'ticks': ticks, 'wood': wood, 'stones': stones}\n",
    "        return widgets.HBox([widgets.VBox([widgets.Label(value=\"Ticks\"),\n",
    "                                           widgets.Label(value=\"Wood\"),\n",
    "                                           widgets.Label(value=\"Stones\")]),\n",
    "                                    widgets.VBox([widgets.Label(value=\": \"),\n",
    "                                                  widgets.Label(value=\": \"),\n",
    "                                                  widgets.Label(value=\": \")]),\n",
    "                                    widgets.VBox([ticks,wood,stones])])\n",
    "\n",
    "    def setActionButtons(self):\n",
    "        buttons = '<span>'\n",
    "        for action in SPEC['actions']:\n",
    "            buttons += '<input id=\"{action}\" type=\"image\" width=\"20px\" height==\"20px\" title=\"{action}\" src=\"{source}\" onclick=\"IPython.notebook.kernel.execute(\\'{pyVar}.selectAction(\\\\\\'{action}\\\\\\')\\')\"/> '.format(pyVar=self.pyVar,action=action['name'],source=RESOURCES[action['name']])\n",
    "        buttons += '</span>'\n",
    "        return widgets.HTML(value=buttons,disabled=False)\n",
    "\n",
    "    def gameStep(self):\n",
    "        self.executionManager()\n",
    "        self.state['ticks'] += 1\n",
    "        self.stateView['ticks'].value = \"%04d\" % self.state['ticks']\n",
    "        self.boardView.value = self.buildBoardView()\n",
    "        return False\n",
    "\n",
    "    def executionManager(self):\n",
    "        for action in [s for s in self.openActions if s['status']=='Open']:\n",
    "            if action['type']=='Move':\n",
    "                entity = action['entity']\n",
    "                if entity['col']<action['col']:\n",
    "                    entity['col'] += 1\n",
    "                elif entity['col']>action['col']:\n",
    "                    entity['col'] -= 1\n",
    "                elif entity['row']<action['row']:\n",
    "                    entity['row'] += 1\n",
    "                elif entity['row']>action['row']:\n",
    "                    entity['row'] -= 1\n",
    "                else:\n",
    "                    action['status']='Closed'\n",
    "            elif action['type']=='HarvestWood':\n",
    "                self.board[action['row']][action['col']]['type'] = '.'\n",
    "                self.gameEntities.append({'type': 'wood', 'row': action['row'], 'col': action['col'], 'size': 1, 'id': self.getID()})\n",
    "                self.state['Wood'] += 100\n",
    "                self.stateView['wood'].value = \"%04d\" % self.state['Wood']\n",
    "                action['status']='Closed'\n",
    "\n",
    "        self.openActions = [s for s in self.openActions if s['status']!='Closed']\n"
   ]
  },
  {
   "cell_type": "code",
   "execution_count": 5,
   "metadata": {},
   "outputs": [
    {
     "data": {
      "application/vnd.jupyter.widget-view+json": {
       "model_id": "7c2d9d641db445e8abe9c0855b0069d8"
      }
     },
     "metadata": {},
     "output_type": "display_data"
    },
    {
     "name": "stdout",
     "output_type": "stream",
     "text": [
      "Starting job # 0 in a separate thread.\n"
     ]
    }
   ],
   "source": [
    "dGame = DragaGame(\"dGame\")"
   ]
  },
  {
   "cell_type": "code",
   "execution_count": 6,
   "metadata": {},
   "outputs": [
    {
     "data": {
      "text/plain": [
       "'Running'"
      ]
     },
     "execution_count": 6,
     "metadata": {},
     "output_type": "execute_result"
    }
   ],
   "source": [
    "dGame.thread.status"
   ]
  },
  {
   "cell_type": "code",
   "execution_count": 7,
   "metadata": {
    "collapsed": true
   },
   "outputs": [],
   "source": [
    "dGame.addEntity('Goat',15,13)"
   ]
  }
 ],
 "metadata": {
  "anaconda-cloud": {},
  "kernelspec": {
   "display_name": "Python 3",
   "language": "python",
   "name": "python3"
  },
  "language_info": {
   "codemirror_mode": {
    "name": "ipython",
    "version": 3
   },
   "file_extension": ".py",
   "mimetype": "text/x-python",
   "name": "python",
   "nbconvert_exporter": "python",
   "pygments_lexer": "ipython3",
   "version": "3.6.1"
  },
  "widgets": {
   "state": {
    "53706f87acb24eeeaf560bdfd27188ca": {
     "views": [
      {
       "cell_index": 4
      }
     ]
    }
   },
   "version": "1.2.0"
  }
 },
 "nbformat": 4,
 "nbformat_minor": 1
}
